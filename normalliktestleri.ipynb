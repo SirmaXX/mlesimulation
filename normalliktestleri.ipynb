{
 "cells": [
  {
   "cell_type": "markdown",
   "metadata": {},
   "source": [
    "# jarque bera test"
   ]
  },
  {
   "cell_type": "code",
   "execution_count": 341,
   "metadata": {},
   "outputs": [
    {
     "name": "stdout",
     "output_type": "stream",
     "text": [
      "(100, 0)\n"
     ]
    }
   ],
   "source": [
    "import numpy as np\n",
    "from numpy import random\n",
    "import pandas as pd\n",
    "from scipy.stats import skew ,kurtosis\n",
    "from scipy import stats\n",
    "\n",
    "def datagenerator(n):\n",
    "  x =random.gamma(shape=2, scale=2, size=(1, n))\n",
    " # x = random.normal(loc=0, scale=1, size=(1, n))\n",
    " # x = random.exponential( scale=2, size=(1, n))\n",
    "  flattened_x = x.flatten()\n",
    "  return flattened_x\n",
    "\n",
    "\n",
    "\n",
    "def jarquebera(dataset):\n",
    "    S = skew(dataset, axis=0, bias=True)\n",
    "    K = kurtosis(dataset, axis=0, bias=True)\n",
    "    n= len(dataset)\n",
    "    jb = (n / 6) * (S ** 2 + (1 / 4) * (K - 3) ** 2)\n",
    "    jb_pv = stats.chi2.sf(jb, 2)\n",
    "    return jb_pv\n",
    "\n",
    "\n",
    "def jarquebera_sim(n,simcount):\n",
    "    truehypothesis=0\n",
    "    falsehypothesis=0\n",
    "    count = 0\n",
    "    dataset=datagenerator(n)\n",
    "    pval=jarquebera(dataset)\n",
    "    while (count<simcount):\n",
    "        if pval<0.05:\n",
    "            truehypothesis+=1\n",
    "            count += 1\n",
    "        else:\n",
    "            falsehypothesis+=1\n",
    "            count += 1\n",
    "\n",
    "    return truehypothesis,falsehypothesis\n",
    "\n",
    "simcount=100\n",
    "n=50\n",
    "print(jarquebera_sim(n,simcount))\n"
   ]
  },
  {
   "cell_type": "markdown",
   "metadata": {},
   "source": [
    "# Cramér–von Mises test (one sample)\n",
    "\n",
    "https://en.wikipedia.org/wiki/Cram%C3%A9r%E2%80%93von_Mises_criterion\n",
    "\n",
    "\n",
    "konu anlatımı:https://www.youtube.com/watch?v=pCz8WlKCJq8"
   ]
  },
  {
   "cell_type": "code",
   "execution_count": 345,
   "metadata": {},
   "outputs": [
    {
     "name": "stdout",
     "output_type": "stream",
     "text": [
      "(0, 100)\n"
     ]
    }
   ],
   "source": [
    "import numpy as np\n",
    "from scipy.stats import norm\n",
    "\n",
    "\n",
    "\n",
    "def normal_datagenerator(n):\n",
    "  x =random.gamma(shape=2, scale=2, size=(1, n))\n",
    "  # x = random.normal(loc=0, scale=1, size=(1, n))\n",
    " # x = random.exponential( scale=2, size=(1, n))\n",
    "  flattened_x = x.flatten()\n",
    "  return flattened_x\n",
    "\n",
    "\n",
    "\n",
    "def calculate_cramer_von_mises_sum_term(data):\n",
    "    sorted_data = sorted(data)\n",
    "\n",
    "    # Number of observations\n",
    "    n = len(sorted_data)\n",
    "\n",
    "    # Calculate the cumulative distribution function (CDF) values for the data\n",
    "    #cdf_values = [i / n for i in range(1, n + 1)]\n",
    "    cdf_values = np.array([norm.cdf(x,loc=0, scale=1) for x in sorted_data])\n",
    "    # Calculate the sum term\n",
    "    sum=0\n",
    "    for i in range(1, n + 1):\n",
    "     sum += ((2 * i - 1) / (2 * n) - cdf_values[i - 1])**2\n",
    "   \n",
    "    pop_std= np.std(data)\n",
    "    sum_term =(1/12*n) +sum\n",
    "    zstat=sum_term/pop_std\n",
    "    pvalue=2*(1-norm.cdf(zstat))\n",
    "    return pvalue\n",
    "\n",
    "\n",
    "\n",
    "def cramer_von_mises_sim(n,simcount):\n",
    "    truehypothesis=0\n",
    "    falsehypothesis=0\n",
    "    count = 0\n",
    "    dataset=normal_datagenerator(n)\n",
    "    pval= calculate_cramer_von_mises_sum_term(dataset)\n",
    "    while (count<simcount):\n",
    "        if pval>0.05:\n",
    "            truehypothesis+=1\n",
    "            count += 1\n",
    "        else:\n",
    "            falsehypothesis+=1\n",
    "            count += 1\n",
    "\n",
    "    return truehypothesis,falsehypothesis\n",
    "\n",
    "\n",
    "\n",
    "\n",
    "print(cramer_von_mises_sim(50,100))"
   ]
  },
  {
   "cell_type": "markdown",
   "metadata": {},
   "source": [
    "# KOLMOGROV SMİRNOW TEST\n",
    "\n",
    "\n",
    "KONU ANLATIMI:https://www.youtube.com/watch?v=cltWQsmBg0k\n",
    "\n",
    "https://www.statology.org/kolmogorov-smirnov-test-python/\n",
    "\n",
    "\n",
    "\n",
    "\n",
    "ksone distribition\n",
    "\n",
    "https://docs.scipy.org/doc/scipy/tutorial/stats/continuous_ksone.html\n",
    "\n",
    "https://stackoverflow.com/questions/53509986/obtaining-the-critical-values-needed-for-the-kolmogorov-smirnov-test\n"
   ]
  },
  {
   "cell_type": "code",
   "execution_count": 393,
   "metadata": {},
   "outputs": [
    {
     "name": "stdout",
     "output_type": "stream",
     "text": [
      "0.9\n",
      "0.4092461395823647\n",
      "(0, 10)\n"
     ]
    }
   ],
   "source": [
    "import numpy as np\n",
    "from scipy.stats import norm\n",
    "from numpy import random\n",
    "from scipy.stats import ksone\n",
    "\n",
    "\n",
    "def ks_critical_value(n_trials, alpha):\n",
    "    return ksone.ppf(1 - alpha / 2, n_trials)\n",
    "\n",
    "def ks_datagenerator(n):\n",
    "    x =random.gamma(shape=2, scale=2, size=(1, n))\n",
    "   # x = random.normal(loc=0, scale=1, size=(1, n))\n",
    "    flattened_x = x.flatten()\n",
    "    return flattened_x\n",
    "\n",
    "def calculate_kstest(data):\n",
    "    n = len(data)\n",
    "    cdf_values = [i / n for i in range(1, n + 1)]\n",
    "    normal_values = np.array([norm.cdf(x, loc=0, scale=1) for x in data])\n",
    "    sup = [abs(cdf_values[i - 1] - normal_values[i - 1]) for i in range(1, n + 1)]\n",
    "    supremum_value = max(sup)\n",
    "    return supremum_value\n",
    "\n",
    "def ks_sim(n, simcount):\n",
    "\n",
    "    truehypothesis = 0\n",
    "    falsehypothesis = 0\n",
    "    count = 0\n",
    "    dataset = ks_datagenerator(n)\n",
    "    criticical_value = ks_critical_value(n, 0.05)\n",
    "    pval = calculate_kstest(dataset)\n",
    "    print(pval)\n",
    "    print(criticical_value)\n",
    "    while count < simcount:\n",
    "        if pval < criticical_value:\n",
    "            truehypothesis += 1\n",
    "            count += 1\n",
    "        else:\n",
    "            falsehypothesis += 1\n",
    "            count += 1\n",
    "       \n",
    "    \n",
    "    return truehypothesis, falsehypothesis\n",
    "\n",
    "print(ks_sim(10, 10))\n"
   ]
  },
  {
   "cell_type": "markdown",
   "metadata": {},
   "source": [
    "kontrol için 4.soru\n",
    "\n",
    "\n",
    "https://acikders.ankara.edu.tr/pluginfile.php/129673/mod_resource/content/0/Veri%20Analizi%207.%20Hafta.pdf"
   ]
  },
  {
   "cell_type": "code",
   "execution_count": 405,
   "metadata": {},
   "outputs": [
    {
     "name": "stdout",
     "output_type": "stream",
     "text": [
      "0.16000000000000003\n",
      "0.2940755433823519\n"
     ]
    }
   ],
   "source": [
    "F0 = [0.015, 0.0425, 0.06, 0.095, 0.13, 0.1675, 0.2325, 0.24, 0.3525, 0.3875, 0.4025, 0.45, 0.575, 0.6475, 0.65, 0.73, 0.78, 0.82, 0.94, 0.955]\n",
    "SN = [0.05, 0.1, 0.15, 0.2, 0.25, 0.3, 0.35, 0.4, 0.45, 0.5, 0.55, 0.6, 0.65, 0.7, 0.75, 0.8, 0.85, 0.9, 0.95, 1.0]\n",
    "n = len(F0)\n",
    "sup = [abs(F0[i - 1] - SN[i - 1]) for i in range(1, n + 1)]\n",
    "supremum_value = max(sup)\n",
    "criticical_value = ks_critical_value(n, 0.05)\n",
    "print(supremum_value)\n",
    "print(criticical_value)\n"
   ]
  }
 ],
 "metadata": {
  "kernelspec": {
   "display_name": "Python 3",
   "language": "python",
   "name": "python3"
  },
  "language_info": {
   "codemirror_mode": {
    "name": "ipython",
    "version": 3
   },
   "file_extension": ".py",
   "mimetype": "text/x-python",
   "name": "python",
   "nbconvert_exporter": "python",
   "pygments_lexer": "ipython3",
   "version": "3.11.2"
  }
 },
 "nbformat": 4,
 "nbformat_minor": 2
}
