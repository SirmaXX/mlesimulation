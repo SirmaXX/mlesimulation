{
 "cells": [
  {
   "cell_type": "markdown",
   "metadata": {},
   "source": [
    "# jarque bera test"
   ]
  },
  {
   "cell_type": "raw",
   "metadata": {},
   "source": [
    "Jarque-Bera testi, bir veri setinin normal dağılıma ne kadar uygun olduğunu sınamak için kullanılan bir istatistik testidir. Bu test, bir veri setinin çarpıklık (skewness) ve basıklık (kurtosis) özelliklerini temel alarak normal dağılıma ne kadar benzediğini değerlendirir."
   ]
  },
  {
   "cell_type": "code",
   "execution_count": null,
   "metadata": {},
   "outputs": [],
   "source": [
    "Bu test için hipotezler şöyle ifade edilir:\n",
    "\n",
    "Sıfır hipotezi-H0:Veriler normal dağılım gösterir\n",
    "Alternatif hipotez-H1: Veriler normal dağılım göstermez.\n",
    "\n",
    "Test istatistiği örneklem basıklık ve çarpıklık ölçülerinin dönüşümlerinden elde edilmiştir. "
   ]
  },
  {
   "cell_type": "markdown",
   "metadata": {},
   "source": [
    "$$ JB=\\frac{n-k}{6}(S^2+\\frac{(k-3)^2}{4}) $$ \n",
    "\n",
    "$$ S=\\frac{\\mu_3}{\\sigma^3}=\\frac{\\mu_3}{(\\sigma^2)^{3/2}}=\\frac{\\frac{1}{n}\\sum_{i=1}^{n}(x-\\bar{x})^3}{(\\frac{1}{n}\\sum_{i=1}^{n}(x-\\bar{x})^2)^{3/2}} $$\n",
    "\n",
    "$$ K=\\frac{\\mu_4}{\\sigma^4}=\\frac{\\mu_4}{(\\sigma^2)^{2}}=\\frac{\\frac{1}{n}\\sum_{i=1}^{n}(x-\\bar{x})^4}{(\\frac{1}{n}\\sum_{i=1}^{n}(x-\\bar{x})^2)^{2}}$$"
   ]
  },
  {
   "cell_type": "markdown",
   "metadata": {},
   "source": [
    "Eğer p-value (p-değeri) belirli bir anlamlılık düzeyinden küçükse (α, genellikle 0.05 olarak seçilir), null hipotezi reddedilir. Yani, veri seti normal dağılıma sahip değildir.\n",
    "Eğer p-value belirli bir anlamlılık düzeyinden büyükse, null hipotezi reddedilemez. Bu durumda, veri setinin normal dağılıma sahip olduğu kabul edilir."
   ]
  },
  {
   "cell_type": "markdown",
   "metadata": {},
   "source": [
    "# JARQUE BERA SİMÜLASYON"
   ]
  },
  {
   "cell_type": "code",
   "execution_count": 288,
   "metadata": {},
   "outputs": [],
   "source": [
    "import numpy as np\n",
    "from numpy import random\n",
    "import pandas as pd\n",
    "from scipy.stats import skew ,kurtosis\n",
    "from scipy import stats\n",
    "\n",
    "def datagenerator(n):\n",
    "  # x =random.gamma(shape=2, scale=2, size=(1, n))\n",
    "  x = random.normal(loc=0, scale=1, size=(1, n))\n",
    " # x = random.exponential( scale=2, size=(1, n))\n",
    "  flattened_x = x.flatten()\n",
    "  return flattened_x\n",
    "\n",
    "\n",
    "\n",
    "def jarquebera(dataset):\n",
    "    S = skew(dataset, axis=0)\n",
    "    K = kurtosis(dataset, axis=0,fisher=True )\n",
    "    n= len(dataset)\n",
    "    jb = (n / 6) * (S ** 2 + (1 / 4) * (K - 3) ** 2)\n",
    "    jb_pv = stats.chi2.sf(jb, 2)\n",
    "    return jb_pv\n",
    "\n",
    "\n",
    "def jarquebera_sim(n,simcount):\n",
    "    truehypothesis=0\n",
    "    falsehypothesis=0\n",
    "    count = 0\n",
    "    dataset=datagenerator(n)\n",
    "    pval=jarquebera(dataset)\n",
    "    print(\"jb olasılık değeri\",pval)\n",
    "    while (count<simcount):\n",
    "        if pval<0.05:\n",
    "            truehypothesis+=1\n",
    "            count += 1\n",
    "        else:\n",
    "            falsehypothesis+=1\n",
    "            count += 1\n",
    "\n",
    "    return truehypothesis,falsehypothesis\n",
    "\n",
    "\n"
   ]
  },
  {
   "cell_type": "code",
   "execution_count": 287,
   "metadata": {},
   "outputs": [
    {
     "name": "stdout",
     "output_type": "stream",
     "text": [
      "6.234674008756455e-12\n",
      "H0 kabul eden simülasyon sayısı: 1000\n",
      "H0 reddeden simülasyon sayıs: 0\n"
     ]
    }
   ],
   "source": [
    "simcount=100\n",
    "n=20\n",
    "\n",
    "\n",
    "sim_result1 = jarquebera_sim(100, 1000)\n",
    "print(\"H0 kabul eden simülasyon sayısı:\", sim_result1[0])\n",
    "print(\"H0 reddeden simülasyon sayıs:\", sim_result1[1])"
   ]
  },
  {
   "cell_type": "markdown",
   "metadata": {},
   "source": [
    "# Cramér–von Mises test (one sample)\n",
    "\n",
    "https://en.wikipedia.org/wiki/Cram%C3%A9r%E2%80%93von_Mises_criterion\n",
    "\n",
    "\n",
    "konu anlatımı:https://www.youtube.com/watch?v=pCz8WlKCJq8  "
   ]
  },
  {
   "cell_type": "markdown",
   "metadata": {},
   "source": [
    "İstatistikte Cramér-von Mises kriteri,bir verisetinin , kümülatif dağılım fonksiyonu ile uyum iyiliğini değerlendirmek için kullanılan bir kriterdir \n",
    "∗F^{*} belirli bir ampirik dağılım fonksiyonu F_{n} ile karşılaştırıldığında veya iki ampirik dağılımı karşılaştırmak için kullanılır.\n",
    "\n",
    "\n",
    "\n",
    "Null Hipotezi (H0): Örneklem dağılımı, belirli bir teorik dağılıma uyar. \n",
    "\n",
    "\n",
    "Alternatif Hipotez (H1): Örneklem dağılımı, belirli bir teorik dağılıma uymaz.\n",
    "\n",
    "\n",
    "\n",
    "$ x_{1},x_{2},... olsun. ,x_{n} $ artan sırada gözlenen değerler olsun. O zaman istatistik"
   ]
  },
  {
   "cell_type": "markdown",
   "metadata": {},
   "source": [
    "$$ T=n\\varpi^2=\\frac{1}{12n}+\\sum_{i=1}^{n}[\\frac{2i-1}{2n}-F(x_i)]^2 $$ "
   ]
  },
  {
   "cell_type": "markdown",
   "metadata": {},
   "source": [
    "Bu değer kullanılan tablodaki değerden büyükse, verilerin seçilen  dağılımından geldiği hipotezi reddedilebilir."
   ]
  },
  {
   "cell_type": "code",
   "execution_count": 283,
   "metadata": {},
   "outputs": [],
   "source": [
    "import numpy as np\n",
    "from scipy.stats import norm\n",
    "\n",
    "\n",
    "\n",
    "def normal_datagenerator(n):\n",
    "  # x =random.gamma(shape=2, scale=2, size=(1, n))\n",
    "  x = random.normal(loc=0, scale=1, size=(1, n))\n",
    " # x = random.exponential( scale=2, size=(1, n))\n",
    "  flattened_x = x.flatten()\n",
    "  return flattened_x\n",
    "\n",
    "\n",
    "\n",
    "def calculate_cramer_von_mises_sum_term(data):\n",
    "    sorted_data = data\n",
    "\n",
    "    # Number of observations\n",
    "    n = len(sorted_data)\n",
    "\n",
    "    # Calculate the cumulative distribution function (CDF) values for the data\n",
    "    #cdf_values = [i / n for i in range(1, n + 1)]\n",
    "    cdf_values = np.array([norm.cdf(x,loc=0, scale=1) for x in sorted_data])\n",
    "    # Calculate the sum term\n",
    "    sum=0\n",
    "    for i in range(1, n + 1):\n",
    "     sum += ((2 * i - 1) / (2 * n) - cdf_values[i - 1])**2\n",
    "   \n",
    "    pop_std= np.std(data)\n",
    "    sum_term =(1/12*n) +sum\n",
    "    zstat=sum_term/pop_std\n",
    "    pvalue=2*(1-norm.cdf(zstat))\n",
    "    return pvalue\n",
    "\n",
    "\n",
    "\n",
    "def cramer_von_mises_sim(n,simcount):\n",
    "    truehypothesis=0\n",
    "    falsehypothesis=0\n",
    "    count = 0\n",
    "    dataset=normal_datagenerator(n)\n",
    "    pval= calculate_cramer_von_mises_sum_term(dataset)\n",
    "    print(\"olasılık değeri\",pval)\n",
    "    while (count<simcount):\n",
    "        if pval>0.05:\n",
    "            truehypothesis+=1\n",
    "            count += 1\n",
    "        else:\n",
    "            falsehypothesis+=1\n",
    "            count += 1\n",
    "\n",
    "    return truehypothesis,falsehypothesis\n",
    "\n",
    "\n",
    "\n",
    "\n"
   ]
  },
  {
   "cell_type": "code",
   "execution_count": 285,
   "metadata": {},
   "outputs": [
    {
     "name": "stdout",
     "output_type": "stream",
     "text": [
      "1.4680540679989917e-05\n",
      "H0 kabul eden simülasyon sayısı: 0\n",
      "H0 reddeden simülasyon sayıs: 50\n"
     ]
    }
   ],
   "source": [
    "simcount=50\n",
    "n=20\n",
    "\n",
    "sim_resultt =cramer_von_mises_sim(n,simcount)\n",
    "print(\"H0 kabul eden simülasyon sayısı:\", sim_resultt[0])\n",
    "print(\"H0 reddeden simülasyon sayıs:\", sim_resultt[1])\n",
    "\n",
    "\n"
   ]
  },
  {
   "cell_type": "markdown",
   "metadata": {},
   "source": [
    "# KOLMOGROV SMİRNOW TEST\n",
    "\n",
    "\n",
    "KONU ANLATIMI:https://www.youtube.com/watch?v=cltWQsmBg0k\n",
    "\n",
    "https://www.statology.org/kolmogorov-smirnov-test-python/\n",
    "\n",
    "\n",
    "\n",
    "\n",
    "ksone distribition\n",
    "\n",
    "https://docs.scipy.org/doc/scipy/tutorial/stats/continuous_ksone.html\n",
    "\n",
    "https://stackoverflow.com/questions/53509986/obtaining-the-critical-values-needed-for-the-kolmogorov-smirnov-test\n",
    "\n",
    "\n",
    "https://docs.scipy.org/doc/scipy/reference/generated/scipy.special.smirnov.html\n"
   ]
  },
  {
   "cell_type": "markdown",
   "metadata": {},
   "source": [
    "Bu test de bir uyum iyiliği testidir.(goodness of  fit)Testin amacı gözlenen frekanslar ile beklenen frekansların birbirine ne düzeyde benzeştiğine dayanır."
   ]
  },
  {
   "cell_type": "markdown",
   "metadata": {},
   "source": [
    "Null Hipotezi (H0): F0(X)=SN(X)     --------------------------                      D_h<D alpha,n\n",
    "\n",
    "\n",
    "Alternatif Hipotez (H1):  F0(X) x SN(X)       --------------------------                       D_h>D alpha,n\n",
    "\n",
    "\n",
    "\n",
    "Test istatistiği, örneklem veri setinin kümülatif dağılım fonksiyonu ile belirli bir teorik dağılımın kümülatif dağılım fonksiyonu arasındaki en büyük farkı temsil eder."
   ]
  },
  {
   "cell_type": "markdown",
   "metadata": {},
   "source": [
    "$$ D=max[F_0(x)-S_n(x)]  \\quad SN=k/N$$ "
   ]
  },
  {
   "cell_type": "markdown",
   "metadata": {},
   "source": [
    "Şeklinde hesaplanır ve Tablo değerleri ise ksone dağılımı (1- smirnow dağılımı) üzerinden hesaplanır.\n",
    "\n"
   ]
  },
  {
   "cell_type": "code",
   "execution_count": 279,
   "metadata": {},
   "outputs": [],
   "source": [
    "import numpy as np\n",
    "from scipy.stats import norm\n",
    "from numpy import random\n",
    "from scipy.stats import ksone\n",
    "\n",
    "\n",
    "def ks_critical_value(n_trials, alpha):\n",
    "    return ksone.ppf(1 - alpha / 2, n_trials)\n",
    "\n",
    "def ks_datagenerator(n):\n",
    "   # x =random.gamma(shape=2, scale=2, size=(1, n))\n",
    "    x = random.normal(loc=0, scale=1, size=(1, n))\n",
    "    flattened_x = x.flatten()\n",
    "    return flattened_x\n",
    "\n",
    "def calculate_kstest(data):\n",
    "    n = len(data)\n",
    "    cdf_values = [i / n for i in range(1, n + 1)]\n",
    "    normal_values = np.array([norm.cdf(x, loc=0, scale=1) for x in data])\n",
    "    sup = [abs(cdf_values[i - 1] - normal_values[i - 1]) for i in range(1, n + 1)]\n",
    "    supremum_value = max(sup)\n",
    "    return supremum_value\n",
    "\n",
    "def ks_sim(n, simcount):\n",
    "\n",
    "    truehypothesis = 0\n",
    "    falsehypothesis = 0\n",
    "    count = 0\n",
    "    dataset = ks_datagenerator(n)\n",
    "    criticical_value = ks_critical_value(n, 0.05)\n",
    "    pval = calculate_kstest(dataset)\n",
    "    print(\"olasılık değeri\" ,pval)\n",
    "    print(\"kritik değer\",criticical_value)\n",
    "    while count < simcount:\n",
    "        if pval < criticical_value:\n",
    "            truehypothesis += 1\n",
    "            count += 1\n",
    "        else:\n",
    "            falsehypothesis += 1\n",
    "            count += 1\n",
    "       \n",
    "    \n",
    "    return truehypothesis, falsehypothesis\n",
    "\n",
    "\n"
   ]
  },
  {
   "cell_type": "code",
   "execution_count": 278,
   "metadata": {},
   "outputs": [
    {
     "name": "stdout",
     "output_type": "stream",
     "text": [
      "0.9191298846876634\n",
      "0.13402815758236203\n",
      "H0 kabul eden simülasyon sayısı: 0\n",
      "H0 reddeden simülasyon sayıs: 1000\n"
     ]
    }
   ],
   "source": [
    "\n",
    "\n",
    "\n",
    "sim_result = ks_sim(100, 1000)\n",
    "print(\"H0 kabul eden simülasyon sayısı:\", sim_result[0])\n",
    "print(\"H0 reddeden simülasyon sayıs:\", sim_result[1])\n"
   ]
  },
  {
   "cell_type": "markdown",
   "metadata": {},
   "source": [
    "## kontrol için 4.soru\n",
    "\n",
    "\n",
    "https://acikders.ankara.edu.tr/pluginfile.php/129673/mod_resource/content/0/Veri%20Analizi%207.%20Hafta.pdf"
   ]
  },
  {
   "cell_type": "code",
   "execution_count": 68,
   "metadata": {},
   "outputs": [
    {
     "name": "stdout",
     "output_type": "stream",
     "text": [
      "0.16000000000000003\n",
      "0.2940755433823519\n"
     ]
    }
   ],
   "source": [
    "F0 = [0.015, 0.0425, 0.06, 0.095, 0.13, 0.1675, 0.2325, 0.24, 0.3525, 0.3875, 0.4025, 0.45, 0.575, 0.6475, 0.65, 0.73, 0.78, 0.82, 0.94, 0.955]\n",
    "SN = [0.05, 0.1, 0.15, 0.2, 0.25, 0.3, 0.35, 0.4, 0.45, 0.5, 0.55, 0.6, 0.65, 0.7, 0.75, 0.8, 0.85, 0.9, 0.95, 1.0]\n",
    "n = len(F0)\n",
    "sup = [abs(F0[i - 1] - SN[i - 1]) for i in range(1, n + 1)]\n",
    "supremum_value = max(sup)\n",
    "criticical_value = ks_critical_value(n, 0.05)\n",
    "print(supremum_value)\n",
    "print(criticical_value)\n",
    "print(\"sorudaki veri ile karşılaştırdığımızda sonuçların doğru olduğunu görebiliyoruz.\")\n"
   ]
  },
  {
   "cell_type": "markdown",
   "metadata": {},
   "source": [
    "# KAYNAKÇA\n",
    "\n"
   ]
  },
  {
   "cell_type": "markdown",
   "metadata": {},
   "source": [
    "1. A comparison of various tests of normality - Berna Yazici, Senay Yolacan\n",
    "2. https://acikders.ankara.edu.tr/pluginfile.php/42377/mod_resource/content/0/2.%20HAFTA.pdf"
   ]
  }
 ],
 "metadata": {
  "kernelspec": {
   "display_name": "Python 3 (ipykernel)",
   "language": "python",
   "name": "python3"
  },
  "language_info": {
   "codemirror_mode": {
    "name": "ipython",
    "version": 3
   },
   "file_extension": ".py",
   "mimetype": "text/x-python",
   "name": "python",
   "nbconvert_exporter": "python",
   "pygments_lexer": "ipython3",
   "version": "3.11.2"
  }
 },
 "nbformat": 4,
 "nbformat_minor": 2
}
